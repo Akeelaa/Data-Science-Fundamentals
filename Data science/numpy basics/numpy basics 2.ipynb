{
 "cells": [
  {
   "cell_type": "code",
   "execution_count": null,
   "metadata": {},
   "outputs": [],
   "source": [
    "import numpy as np\n",
    "\n",
    "# all 0s matrix\n",
    "#np.zeros(100)"
   ]
  },
  {
   "cell_type": "code",
   "execution_count": null,
   "metadata": {},
   "outputs": [],
   "source": [
    "#a = np.array([[1,2,3,4,5,6,7], [8,9,10,11,12,13,14]])  #dtype = float)\n",
    "print(a)\n",
    "#a.ndim\n",
    "#a.shape\n",
    "#a[:,5] #get specific column from np array output:6\n",
    "#a[0,1] = 15 #changed element 2 to 15 \n",
    "#print(a\n",
    "#a[0,4] = 50 # change 5th column to 50 in 1st row\n",
    "#print(a)\n",
    "\n"
   ]
  },
  {
   "cell_type": "markdown",
   "metadata": {},
   "source": [
    "zeros/ones method"
   ]
  },
  {
   "cell_type": "code",
   "execution_count": null,
   "metadata": {},
   "outputs": [],
   "source": [
    "#np.zeros((3,3), dtype ='int32')\n",
    "#np.ones((3,3), dtype =int)\n",
    "\n",
    "#full method to create a matrix with a single number so all numbers are the same\n",
    "#vara=20 #using a variable\n",
    "#np.full((3,3), vara, dtype = float)\n",
    "#np.full((3,3), 50, dtype = float) # not using variable hard coding it instead\n",
    "\n",
    "#randum \n",
    "#np.random.randint (1,100, size =(3,3))\n",
    "\n",
    "#identity matrix\n",
    "#[1, 0,\n",
    "# 0, 1]\n",
    "#np.identity(5)\n",
    "\n",
    "#np.identity(3)\n"
   ]
  },
  {
   "cell_type": "code",
   "execution_count": null,
   "metadata": {},
   "outputs": [],
   "source": [
    "#a = np.array([\n",
    " #           [1,2,3,4,5,6], \n",
    "  #          [10,20,30,40,50,60],\n",
    "   #         [12,12,12,12,12,12],\n",
    "    #        [11,21,31,41,51,61],\n",
    "     #       [13,24,34,44,54,64]])\n",
    "\n",
    "\n",
    "#a[0:3, -5:]\n"
   ]
  },
  {
   "cell_type": "code",
   "execution_count": null,
   "metadata": {},
   "outputs": [],
   "source": [
    "# create an nzn array with all zeros\n",
    "#n=5\n",
    "#z=np.zeros((n,n), dtype = 'int')\n",
    "\n",
    "# making the middle row and column 1s\n",
    "#z[n//2,:] = 1\n",
    "#z[:,n//2] = 1\n",
    "#print(z)"
   ]
  },
  {
   "cell_type": "markdown",
   "metadata": {},
   "source": [
    "arithmetic operations with numpy - maths + stats"
   ]
  },
  {
   "cell_type": "code",
   "execution_count": null,
   "metadata": {},
   "outputs": [],
   "source": [
    "a= np.array([[1,2,3,4], [5,6,7,8]]) #2d array\n",
    "a.max"
   ]
  },
  {
   "cell_type": "code",
   "execution_count": 5,
   "metadata": {},
   "outputs": [],
   "source": [
    "a = np.array([1,1,1]) \n",
    "a = np.array([[1,1,1]])"
   ]
  },
  {
   "cell_type": "code",
   "execution_count": 1,
   "metadata": {},
   "outputs": [
    {
     "name": "stdout",
     "output_type": "stream",
     "text": [
      "[22.5 24.9 27.8 27.1]\n",
      "[72.5  76.82 82.04 80.78]\n"
     ]
    }
   ],
   "source": [
    "import numpy as np\n",
    "\n",
    "values = [22.5,24.9,27.8,27.1]\n",
    "numpy_array = np.array(values)\n",
    "\n",
    "conversion = numpy_array * 9/5 + 32\n",
    "\n",
    "print(numpy_array)\n",
    "print(conversion)"
   ]
  }
 ],
 "metadata": {
  "kernelspec": {
   "display_name": "Python 3",
   "language": "python",
   "name": "python3"
  },
  "language_info": {
   "codemirror_mode": {
    "name": "ipython",
    "version": 3
   },
   "file_extension": ".py",
   "mimetype": "text/x-python",
   "name": "python",
   "nbconvert_exporter": "python",
   "pygments_lexer": "ipython3",
   "version": "3.11.5"
  }
 },
 "nbformat": 4,
 "nbformat_minor": 2
}
